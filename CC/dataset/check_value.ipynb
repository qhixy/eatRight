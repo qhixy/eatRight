{
 "cells": [
  {
   "cell_type": "code",
   "id": "initial_id",
   "metadata": {
    "collapsed": true,
    "ExecuteTime": {
     "end_time": "2024-11-24T12:53:33.687850Z",
     "start_time": "2024-11-24T12:53:08.084541Z"
    }
   },
   "source": "pip install pandas",
   "outputs": [
    {
     "name": "stdout",
     "output_type": "stream",
     "text": [
      "Collecting pandas\r\n",
      "\u001B[?25l  Downloading https://files.pythonhosted.org/packages/78/a8/07dd10f90ca915ed914853cd57f79bfc22e1ef4384ab56cb4336d2fc1f2a/pandas-2.0.3-cp38-cp38-macosx_10_9_x86_64.whl (11.7MB)\r\n",
      "\u001B[K     |████████████████████████████████| 11.7MB 2.5MB/s eta 0:00:01\r\n",
      "\u001B[?25hCollecting tzdata>=2022.1 (from pandas)\r\n",
      "  Using cached https://files.pythonhosted.org/packages/a6/ab/7e5f53c3b9d14972843a647d8d7a853969a58aecc7559cb3267302c94774/tzdata-2024.2-py2.py3-none-any.whl\r\n",
      "Collecting numpy>=1.20.3; python_version < \"3.10\" (from pandas)\r\n",
      "\u001B[?25l  Downloading https://files.pythonhosted.org/packages/11/10/943cfb579f1a02909ff96464c69893b1d25be3731b5d3652c2e0cf1281ea/numpy-1.24.4-cp38-cp38-macosx_10_9_x86_64.whl (19.8MB)\r\n",
      "\u001B[K     |████████████████████████████████| 19.8MB 2.0MB/s eta 0:00:011\r\n",
      "\u001B[?25hRequirement already satisfied: pytz>=2020.1 in /Library/Frameworks/Python.framework/Versions/3.8/lib/python3.8/site-packages (from pandas) (2024.2)\r\n",
      "Requirement already satisfied: python-dateutil>=2.8.2 in /Library/Frameworks/Python.framework/Versions/3.8/lib/python3.8/site-packages (from pandas) (2.9.0.post0)\r\n",
      "Requirement already satisfied: six>=1.5 in /Library/Frameworks/Python.framework/Versions/3.8/lib/python3.8/site-packages (from python-dateutil>=2.8.2->pandas) (1.16.0)\r\n",
      "Installing collected packages: tzdata, numpy, pandas\r\n",
      "Successfully installed numpy-1.24.4 pandas-2.0.3 tzdata-2024.2\r\n",
      "\u001B[33mWARNING: You are using pip version 19.2.3, however version 24.3.1 is available.\r\n",
      "You should consider upgrading via the 'pip install --upgrade pip' command.\u001B[0m\r\n",
      "Note: you may need to restart the kernel to use updated packages.\n"
     ]
    }
   ],
   "execution_count": 4
  },
  {
   "metadata": {},
   "cell_type": "markdown",
   "source": "",
   "id": "1712cfc45936ecef"
  },
  {
   "metadata": {
    "ExecuteTime": {
     "end_time": "2024-11-24T12:55:24.239052Z",
     "start_time": "2024-11-24T12:55:24.202359Z"
    }
   },
   "cell_type": "code",
   "source": [
    "import pandas as pd\n",
    "\n",
    "filepath = \"ObesityDataSet_raw_and_data_sinthetic.csv\"\n",
    "data = pd.read_csv(filepath)"
   ],
   "id": "af7c9daa2b9fde9a",
   "outputs": [],
   "execution_count": 6
  },
  {
   "metadata": {
    "ExecuteTime": {
     "end_time": "2024-11-24T12:55:58.865178Z",
     "start_time": "2024-11-24T12:55:58.851589Z"
    }
   },
   "cell_type": "code",
   "source": "data.columns",
   "id": "93268fcf91701b62",
   "outputs": [
    {
     "data": {
      "text/plain": [
       "Index(['Age', 'Gender', 'Height', 'Weight', 'CALC', 'FAVC', 'FCVC', 'NCP',\n",
       "       'SCC', 'SMOKE', 'CH2O', 'family_history_with_overweight', 'FAF', 'TUE',\n",
       "       'CAEC', 'MTRANS', 'NObeyesdad'],\n",
       "      dtype='object')"
      ]
     },
     "execution_count": 8,
     "metadata": {},
     "output_type": "execute_result"
    }
   ],
   "execution_count": 8
  },
  {
   "metadata": {
    "ExecuteTime": {
     "end_time": "2024-11-24T12:56:39.510620Z",
     "start_time": "2024-11-24T12:56:39.500096Z"
    }
   },
   "cell_type": "code",
   "source": "data[\"NObeyesdad\"].value_counts()\n",
   "id": "1b39940cc598b5c8",
   "outputs": [
    {
     "data": {
      "text/plain": [
       "NObeyesdad\n",
       "Obesity_Type_I         351\n",
       "Obesity_Type_III       324\n",
       "Obesity_Type_II        297\n",
       "Overweight_Level_I     290\n",
       "Overweight_Level_II    290\n",
       "Normal_Weight          287\n",
       "Insufficient_Weight    272\n",
       "Name: count, dtype: int64"
      ]
     },
     "execution_count": 10,
     "metadata": {},
     "output_type": "execute_result"
    }
   ],
   "execution_count": 10
  },
  {
   "metadata": {
    "ExecuteTime": {
     "end_time": "2024-11-24T13:09:41.178815Z",
     "start_time": "2024-11-24T13:09:41.165361Z"
    }
   },
   "cell_type": "code",
   "source": "data[\"NObeyesdad\"].unique().tolist()",
   "id": "3b5840a8bdccaff1",
   "outputs": [
    {
     "data": {
      "text/plain": [
       "['Normal_Weight',\n",
       " 'Overweight_Level_I',\n",
       " 'Overweight_Level_II',\n",
       " 'Obesity_Type_I',\n",
       " 'Insufficient_Weight',\n",
       " 'Obesity_Type_II',\n",
       " 'Obesity_Type_III']"
      ]
     },
     "execution_count": 17,
     "metadata": {},
     "output_type": "execute_result"
    }
   ],
   "execution_count": 17
  },
  {
   "metadata": {
    "ExecuteTime": {
     "end_time": "2024-11-24T13:09:51.837439Z",
     "start_time": "2024-11-24T13:09:51.834082Z"
    }
   },
   "cell_type": "code",
   "source": "import pickle",
   "id": "a82e76441c0cc6b4",
   "outputs": [],
   "execution_count": 18
  },
  {
   "metadata": {
    "ExecuteTime": {
     "end_time": "2024-11-24T13:13:00.894032Z",
     "start_time": "2024-11-24T13:13:00.887870Z"
    }
   },
   "cell_type": "code",
   "source": "pickle.dump(data[\"NObeyesdad\"].unique().tolist(), open(\"./label.pkl\", \"wb\"))",
   "id": "a5b021c7d9556869",
   "outputs": [],
   "execution_count": 24
  },
  {
   "metadata": {},
   "cell_type": "code",
   "outputs": [],
   "execution_count": null,
   "source": "",
   "id": "401e507292952ad4"
  }
 ],
 "metadata": {
  "kernelspec": {
   "display_name": "Python 3",
   "language": "python",
   "name": "python3"
  },
  "language_info": {
   "codemirror_mode": {
    "name": "ipython",
    "version": 2
   },
   "file_extension": ".py",
   "mimetype": "text/x-python",
   "name": "python",
   "nbconvert_exporter": "python",
   "pygments_lexer": "ipython2",
   "version": "2.7.6"
  }
 },
 "nbformat": 4,
 "nbformat_minor": 5
}
